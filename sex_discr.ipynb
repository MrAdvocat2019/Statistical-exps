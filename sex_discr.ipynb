{
 "cells": [
  {
   "cell_type": "markdown",
   "id": "cae85f11",
   "metadata": {},
   "source": [
    "Здесь и далее примеры из Introduction to modern statistics"
   ]
  },
  {
   "cell_type": "markdown",
   "id": "4786cef2",
   "metadata": {},
   "source": [
    "Первый пример, дискримигнация по полу, были розданы одинаковые файлы людей, различался только пол кандидата, результаты повышений:\n",
    "Мужчины - 21 да, 3 нет\n",
    "Женщины - 14 да, 10 нет\n",
    "\n",
    "Здесь проведем permutation test "
   ]
  },
  {
   "cell_type": "code",
   "execution_count": 2,
   "id": "4c36e2e5",
   "metadata": {},
   "outputs": [],
   "source": [
    "import numpy as np\n",
    "import matplotlib.pyplot as plt"
   ]
  },
  {
   "cell_type": "code",
   "execution_count": 3,
   "id": "5e1a80c4",
   "metadata": {},
   "outputs": [],
   "source": [
    "male_promote = 21\n",
    "male_not_promote = 3\n",
    "female_promote = 14\n",
    "female_not_promote = 10\n",
    "male = np.array([1] * male_promote + [0] * male_not_promote)\n",
    "female = np.array([1] * female_promote + [0] * female_not_promote)"
   ]
  },
  {
   "cell_type": "code",
   "execution_count": 5,
   "id": "563e41ad",
   "metadata": {},
   "outputs": [],
   "source": [
    "male_mean = np.mean(male)\n",
    "female_mean = np.mean(female)"
   ]
  },
  {
   "cell_type": "code",
   "execution_count": 31,
   "id": "3f89cead",
   "metadata": {},
   "outputs": [],
   "source": [
    "observed = male_mean - female_mean"
   ]
  },
  {
   "cell_type": "markdown",
   "id": "44a753a5",
   "metadata": {},
   "source": [
    "Наши две гипотезы\n",
    "\n",
    "$ H_0 $ - дискриминации нет и реальный уровень повышений для мужчин и женщин не отличается\n",
    "\n",
    "$ H_1 $ - дискриминация есть и реальный уровени повышений для мужчин выше"
   ]
  },
  {
   "cell_type": "code",
   "execution_count": 23,
   "id": "06787a4d",
   "metadata": {},
   "outputs": [],
   "source": [
    "num_of_perm = 100000\n",
    "permutations = []\n",
    "combined = np.concatenate((male, female))\n",
    "\n",
    "for i in range(num_of_perm):\n",
    "    np.random.shuffle(combined)\n",
    "    A = combined[:len(combined) // 2]\n",
    "    B = combined[len(combined) // 2:]\n",
    "    permutations.append(np.mean(B) - np.mean(A))\n",
    "permutations = np.array(permutations)\n",
    "lb = np.quantile(permutations, 0.025)\n",
    "ub = np.quantile(permutations, 0.975)"
   ]
  },
  {
   "cell_type": "code",
   "execution_count": 33,
   "id": "2d707eda",
   "metadata": {},
   "outputs": [
    {
     "data": {
      "text/plain": [
       "<function matplotlib.pyplot.show(close=None, block=None)>"
      ]
     },
     "execution_count": 33,
     "metadata": {},
     "output_type": "execute_result"
    },
    {
     "data": {
      "image/png": "[encoded data removed]",
      "text/plain": [
       "<Figure size 640x480 with 1 Axes>"
      ]
     },
     "metadata": {},
     "output_type": "display_data"
    }
   ],
   "source": [
    "plt.hist(permutations, bins = 200)\n",
    "plt.axvline(lb, 0, 25000, c=\"red\", label=\"CI\")\n",
    "plt.axvline(ub, 0, 25000, c=\"red\", label=\"CI\")\n",
    "plt.axvline(observed, 0, 25000, c=\"green\", label=\"observed diference\")\n",
    "plt.legend()\n",
    "plt.show\n"
   ]
  },
  {
   "cell_type": "markdown",
   "id": "e0ff2e47",
   "metadata": {},
   "source": [
    "Здесь видно что нулевая гипотеза не подтверждена"
   ]
  },
  {
   "cell_type": "code",
   "execution_count": null,
   "id": "80855205",
   "metadata": {},
   "outputs": [],
   "source": []
  }
 ],
 "metadata": {
  "kernelspec": {
   "display_name": ".venv",
   "language": "python",
   "name": "python3"
  },
  "language_info": {
   "codemirror_mode": {
    "name": "ipython",
    "version": 3
   },
   "file_extension": ".py",
   "mimetype": "text/x-python",
   "name": "python",
   "nbconvert_exporter": "python",
   "pygments_lexer": "ipython3",
   "version": "3.12.4"
  }
 },
 "nbformat": 4,
 "nbformat_minor": 5
}
